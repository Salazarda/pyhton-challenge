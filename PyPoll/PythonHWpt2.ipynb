{
 "cells": [
  {
   "cell_type": "code",
   "execution_count": 4,
   "metadata": {},
   "outputs": [
    {
     "data": {
      "text/html": [
       "<div>\n",
       "<style scoped>\n",
       "    .dataframe tbody tr th:only-of-type {\n",
       "        vertical-align: middle;\n",
       "    }\n",
       "\n",
       "    .dataframe tbody tr th {\n",
       "        vertical-align: top;\n",
       "    }\n",
       "\n",
       "    .dataframe thead th {\n",
       "        text-align: right;\n",
       "    }\n",
       "</style>\n",
       "<table border=\"1\" class=\"dataframe\">\n",
       "  <thead>\n",
       "    <tr style=\"text-align: right;\">\n",
       "      <th></th>\n",
       "      <th>Voter ID</th>\n",
       "      <th>County</th>\n",
       "      <th>Candidate</th>\n",
       "    </tr>\n",
       "  </thead>\n",
       "  <tbody>\n",
       "    <tr>\n",
       "      <th>0</th>\n",
       "      <td>12864552</td>\n",
       "      <td>Marsh</td>\n",
       "      <td>Khan</td>\n",
       "    </tr>\n",
       "    <tr>\n",
       "      <th>1</th>\n",
       "      <td>17444633</td>\n",
       "      <td>Marsh</td>\n",
       "      <td>Correy</td>\n",
       "    </tr>\n",
       "    <tr>\n",
       "      <th>2</th>\n",
       "      <td>19330107</td>\n",
       "      <td>Marsh</td>\n",
       "      <td>Khan</td>\n",
       "    </tr>\n",
       "    <tr>\n",
       "      <th>3</th>\n",
       "      <td>19865775</td>\n",
       "      <td>Queen</td>\n",
       "      <td>Khan</td>\n",
       "    </tr>\n",
       "    <tr>\n",
       "      <th>4</th>\n",
       "      <td>11927875</td>\n",
       "      <td>Marsh</td>\n",
       "      <td>Khan</td>\n",
       "    </tr>\n",
       "  </tbody>\n",
       "</table>\n",
       "</div>"
      ],
      "text/plain": [
       "   Voter ID County Candidate\n",
       "0  12864552  Marsh      Khan\n",
       "1  17444633  Marsh    Correy\n",
       "2  19330107  Marsh      Khan\n",
       "3  19865775  Queen      Khan\n",
       "4  11927875  Marsh      Khan"
      ]
     },
     "execution_count": 4,
     "metadata": {},
     "output_type": "execute_result"
    }
   ],
   "source": [
    "import pandas as pd\n",
    "\n",
    "# Create a reference the CSV file desired\n",
    "csv_path = \"election_data.csv\"\n",
    "\n",
    "# Read the CSV into a Pandas DataFrame\n",
    "election_df = pd.read_csv(csv_path)\n",
    "\n",
    "# Print the first five rows of data to the screen\n",
    "election_df.head()"
   ]
  },
  {
   "cell_type": "code",
   "execution_count": 5,
   "metadata": {},
   "outputs": [
    {
     "data": {
      "text/plain": [
       "3521001"
      ]
     },
     "execution_count": 5,
     "metadata": {},
     "output_type": "execute_result"
    }
   ],
   "source": [
    "total_count = election_df['Voter ID'].count()\n",
    "total_count"
   ]
  },
  {
   "cell_type": "code",
   "execution_count": 6,
   "metadata": {},
   "outputs": [
    {
     "data": {
      "text/plain": [
       "Khan        2218231\n",
       "Correy       704200\n",
       "Li           492940\n",
       "O'Tooley     105630\n",
       "Name: Candidate, dtype: int64"
      ]
     },
     "execution_count": 6,
     "metadata": {},
     "output_type": "execute_result"
    }
   ],
   "source": [
    "candidate_count = c.value_counts()\n",
    "candidate_count"
   ]
  },
  {
   "cell_type": "code",
   "execution_count": 7,
   "metadata": {},
   "outputs": [
    {
     "data": {
      "text/plain": [
       "array(['Khan', 'Correy', 'Li', \"O'Tooley\"], dtype=object)"
      ]
     },
     "execution_count": 7,
     "metadata": {},
     "output_type": "execute_result"
    }
   ],
   "source": [
    "candidate_names = election_df['Candidate'].unique()\n",
    "candidate_names"
   ]
  },
  {
   "cell_type": "code",
   "execution_count": 42,
   "metadata": {},
   "outputs": [
    {
     "name": "stdout",
     "output_type": "stream",
     "text": [
      "Candidate\n",
      "Correy       704200\n",
      "Khan        2218231\n",
      "Li           492940\n",
      "O'Tooley     105630\n",
      "Name: Voter ID, dtype: int64\n"
     ]
    }
   ],
   "source": [
    "candidates = election_df.groupby('Candidate')['Voter ID'].nunique()\n",
    "print (candidates)"
   ]
  },
  {
   "cell_type": "code",
   "execution_count": 25,
   "metadata": {},
   "outputs": [
    {
     "data": {
      "text/plain": [
       "Candidate\n",
       "Correy       704200\n",
       "Khan        2218231\n",
       "Li           492940\n",
       "O'Tooley     105630\n",
       "Name: Voter ID, dtype: int64"
      ]
     },
     "execution_count": 25,
     "metadata": {},
     "output_type": "execute_result"
    }
   ],
   "source": [
    "better_candidate = candidates.replace(\"''\", \"\")\n",
    "better_candidate"
   ]
  },
  {
   "cell_type": "code",
   "execution_count": 16,
   "metadata": {},
   "outputs": [
    {
     "ename": "SyntaxError",
     "evalue": "invalid syntax (<ipython-input-16-727e83cfc8aa>, line 3)",
     "output_type": "error",
     "traceback": [
      "\u001b[1;36m  File \u001b[1;32m\"<ipython-input-16-727e83cfc8aa>\"\u001b[1;36m, line \u001b[1;32m3\u001b[0m\n\u001b[1;33m    candidates_office.div(Voter ID, level='Voter ID') * 100\u001b[0m\n\u001b[1;37m                                 ^\u001b[0m\n\u001b[1;31mSyntaxError\u001b[0m\u001b[1;31m:\u001b[0m invalid syntax\n"
     ]
    }
   ],
   "source": [
    "candidates_office = df.groupby(['Candidate', 'Voter ID']).agg({'Candidate': 'sum'})\n",
    "votes = df.groupby(['Voter ID']).agg({'Candidate': 'sum'})\n",
    "candidates_office.div(Voter ID, level='Voter ID') * 100"
   ]
  },
  {
   "cell_type": "code",
   "execution_count": 32,
   "metadata": {},
   "outputs": [
    {
     "data": {
      "text/plain": [
       "2.999999147969569"
      ]
     },
     "execution_count": 32,
     "metadata": {},
     "output_type": "execute_result"
    }
   ],
   "source": [
    "candidate_Correy = better_candidate['Correy'] / total_count*100\n",
    "candidate_Correy\n",
    "candidate_Khan = better_candidate['Khan'] / total_count*100\n",
    "candidate_Khan\n",
    "candidate_Li = better_candidate['Li'] / total_count*100\n",
    "candidate_Li\n",
    "candidate_OTooley = better_candidate['O''\\'Tooley'] / total_count*100\n",
    "candidate_OTooley"
   ]
  },
  {
   "cell_type": "code",
   "execution_count": 52,
   "metadata": {},
   "outputs": [
    {
     "ename": "AttributeError",
     "evalue": "'Series' object has no attribute 'candidate'",
     "output_type": "error",
     "traceback": [
      "\u001b[1;31m---------------------------------------------------------------------------\u001b[0m",
      "\u001b[1;31mAttributeError\u001b[0m                            Traceback (most recent call last)",
      "\u001b[1;32m<ipython-input-52-92fb6250bec8>\u001b[0m in \u001b[0;36m<module>\u001b[1;34m\u001b[0m\n\u001b[1;32m----> 1\u001b[1;33m \u001b[0mcandidates\u001b[0m\u001b[1;33m[\u001b[0m\u001b[1;34m'winner'\u001b[0m\u001b[1;33m]\u001b[0m \u001b[1;33m=\u001b[0m \u001b[0mbetter_candidate\u001b[0m\u001b[1;33m.\u001b[0m\u001b[0mwhere\u001b[0m\u001b[1;33m(\u001b[0m\u001b[0mbetter_candidate\u001b[0m \u001b[1;33m>\u001b[0m \u001b[0mtotal_count\u001b[0m\u001b[1;33m,\u001b[0m \u001b[0mbetter_candidate\u001b[0m\u001b[1;33m.\u001b[0m\u001b[0mcandidate\u001b[0m\u001b[1;33m,\u001b[0m \u001b[0mdf\u001b[0m\u001b[1;33m.\u001b[0m\u001b[0mcandidate_count\u001b[0m\u001b[1;33m)\u001b[0m\u001b[1;33m\u001b[0m\u001b[1;33m\u001b[0m\u001b[0m\n\u001b[0m",
      "\u001b[1;32mC:\\ProgramData\\Anaconda3\\lib\\site-packages\\pandas\\core\\generic.py\u001b[0m in \u001b[0;36m__getattr__\u001b[1;34m(self, name)\u001b[0m\n\u001b[0;32m   4374\u001b[0m             \u001b[1;32mif\u001b[0m \u001b[0mself\u001b[0m\u001b[1;33m.\u001b[0m\u001b[0m_info_axis\u001b[0m\u001b[1;33m.\u001b[0m\u001b[0m_can_hold_identifiers_and_holds_name\u001b[0m\u001b[1;33m(\u001b[0m\u001b[0mname\u001b[0m\u001b[1;33m)\u001b[0m\u001b[1;33m:\u001b[0m\u001b[1;33m\u001b[0m\u001b[1;33m\u001b[0m\u001b[0m\n\u001b[0;32m   4375\u001b[0m                 \u001b[1;32mreturn\u001b[0m \u001b[0mself\u001b[0m\u001b[1;33m[\u001b[0m\u001b[0mname\u001b[0m\u001b[1;33m]\u001b[0m\u001b[1;33m\u001b[0m\u001b[1;33m\u001b[0m\u001b[0m\n\u001b[1;32m-> 4376\u001b[1;33m             \u001b[1;32mreturn\u001b[0m \u001b[0mobject\u001b[0m\u001b[1;33m.\u001b[0m\u001b[0m__getattribute__\u001b[0m\u001b[1;33m(\u001b[0m\u001b[0mself\u001b[0m\u001b[1;33m,\u001b[0m \u001b[0mname\u001b[0m\u001b[1;33m)\u001b[0m\u001b[1;33m\u001b[0m\u001b[1;33m\u001b[0m\u001b[0m\n\u001b[0m\u001b[0;32m   4377\u001b[0m \u001b[1;33m\u001b[0m\u001b[0m\n\u001b[0;32m   4378\u001b[0m     \u001b[1;32mdef\u001b[0m \u001b[0m__setattr__\u001b[0m\u001b[1;33m(\u001b[0m\u001b[0mself\u001b[0m\u001b[1;33m,\u001b[0m \u001b[0mname\u001b[0m\u001b[1;33m,\u001b[0m \u001b[0mvalue\u001b[0m\u001b[1;33m)\u001b[0m\u001b[1;33m:\u001b[0m\u001b[1;33m\u001b[0m\u001b[1;33m\u001b[0m\u001b[0m\n",
      "\u001b[1;31mAttributeError\u001b[0m: 'Series' object has no attribute 'candidate'"
     ]
    }
   ],
   "source": [
    "candidates['winner'] = better_candidate.where(better_candidate > total_count, better_candidate.candidate, df.candidate_count)"
   ]
  },
  {
   "cell_type": "code",
   "execution_count": 62,
   "metadata": {},
   "outputs": [
    {
     "name": "stdout",
     "output_type": "stream",
     "text": [
      "<_csv.reader object at 0x0000022A9147BC10>\n",
      "Election Results\n",
      "--------------------------\n",
      "Total Votes:  3521001\n",
      "--------------------------\n",
      "Khan: 63.000% (2218231)\n",
      "Correy: 20.000% (704200)\n",
      "Li: 14.000% (492940)\n",
      "O'Tooley: 3.000% (105630)\n",
      "--------------------------\n",
      "Winner: Khan\n",
      "--------------------------\n"
     ]
    }
   ],
   "source": [
    "import csv\n",
    "\n",
    "csvpath = \"election_data.csv\"\n",
    "Data = []\n",
    "file_to_output = \"election_analysis.txt\"\n",
    "with open(csvpath, newline=\"\") as csvfile:\n",
    "   csvreader = csv.reader(csvfile, delimiter=\",\")\n",
    "   print(csvreader)\n",
    "   csv_header = next(csvreader)\n",
    "   Data.append(csv_header)\n",
    "   for row in csvreader:\n",
    "       Data.append(row)\n",
    "\n",
    "RowCountt = 0\n",
    "for row in Data[1:]:\n",
    "   RowCountt += 1\n",
    "\n",
    "\n",
    "CD = {}\n",
    "for row in Data[1:]:\n",
    "   if row[2] not in CD:\n",
    "       CD[row[2]] = {}\n",
    "       CD[row[2]][\"Votes\"] = 1\n",
    "       CD[row[2]][\"Prcnt\"] = (CD[row[2]][\"Votes\"] / RowCountt)\n",
    "   else:\n",
    "       CD[row[2]][\"Votes\"] += 1\n",
    "       CD[row[2]][\"Prcnt\"] = (CD[row[2]][\"Votes\"] / RowCountt)\n",
    "\n",
    "\n",
    "MostVotesName = \"\"\n",
    "MostVotes = 0\n",
    "\n",
    "for names in CD:\n",
    "   if CD[names][\"Votes\"] > MostVotes:\n",
    "       MostVotes = CD[names][\"Votes\"]\n",
    "       MostVotesName = names\n",
    "\n",
    "print(\"Election Results\")\n",
    "print(\"--------------------------\")\n",
    "print(f\"Total Votes:  {RowCountt}\")\n",
    "print(\"--------------------------\")\n",
    "for key in CD:\n",
    "   print(key + \": \" + str(format(CD[key][\"Prcnt\"], \".3%\")) + \" (\" + str(CD[key][\"Votes\"]) + \")\")\n",
    "print(\"--------------------------\")\n",
    "print(f\"Winner: {MostVotesName}\")\n",
    "print(\"--------------------------\")\n",
    "\n",
    "with open(file_to_output, \"w\") as txt_file:\n",
    "    \n",
    "    txt_file.write(\"Election Results\")\n",
    "    txt_file.write(\"-------------------------\")\n",
    "    txt_file.write(f\"Total Votes:  {RowCountt}\")\n",
    "    txt_file.write(key + \": \" + str(format(CD[key][\"Prcnt\"], \".3%\")) + \" (\" + str(CD[key][\"Votes\"]) + \")\")\n",
    "    txt_file.write(\"-------------------------\")\n",
    "    txt_file.write(str(MostVotesName))\n",
    "    txt_file.write(\"-------------------------\")\n",
    "    txt_file.write(\"\\n\")\n",
    "    txt_file.write(f\"Winner: {MostVotesName}\")"
   ]
  }
 ],
 "metadata": {
  "kernelspec": {
   "display_name": "Python 3",
   "language": "python",
   "name": "python3"
  },
  "language_info": {
   "codemirror_mode": {
    "name": "ipython",
    "version": 3
   },
   "file_extension": ".py",
   "mimetype": "text/x-python",
   "name": "python",
   "nbconvert_exporter": "python",
   "pygments_lexer": "ipython3",
   "version": "3.7.1"
  }
 },
 "nbformat": 4,
 "nbformat_minor": 2
}
